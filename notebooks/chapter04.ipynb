{
  "nbformat": 4,
  "nbformat_minor": 0,
  "metadata": {
    "colab": {
      "provenance": []
    },
    "kernelspec": {
      "name": "python3",
      "display_name": "Python 3"
    },
    "language_info": {
      "name": "python"
    },
    "gpuClass": "standard"
  },
  "cells": [
    {
      "cell_type": "markdown",
      "source": [
        "# 第4章: 形態素解析\n",
        "\n",
        "夏目漱石の小説『吾輩は猫である』の文章（[neko.txt](https://nlp100.github.io/data/neko.txt)）をMeCabを使って形態素解析し，その結果をneko.txt.mecabというファイルに保存せよ．このファイルを用いて，以下の問に対応するプログラムを実装せよ．\n",
        "\n",
        "なお，問題37, 38, 39は[matplotlib](http://matplotlib.org/)もしくは[Gnuplot](http://www.gnuplot.info/)を用いるとよい．\n"
      ],
      "metadata": {
        "id": "iBPFEkMS3ncN"
      }
    },
    {
      "cell_type": "code",
      "source": [
        "!wget https://nlp100.github.io/data/neko.txt"
      ],
      "metadata": {
        "id": "1YQpfygsrJ49",
        "colab": {
          "base_uri": "https://localhost:8080/"
        },
        "outputId": "3b445e5b-346c-4114-a011-36ec75dd671a"
      },
      "execution_count": 1,
      "outputs": [
        {
          "output_type": "stream",
          "name": "stdout",
          "text": [
            "--2022-12-04 20:39:20--  https://nlp100.github.io/data/neko.txt\n",
            "Resolving nlp100.github.io (nlp100.github.io)... 185.199.111.153, 185.199.109.153, 185.199.108.153, ...\n",
            "Connecting to nlp100.github.io (nlp100.github.io)|185.199.111.153|:443... connected.\n",
            "HTTP request sent, awaiting response... 200 OK\n",
            "Length: 975789 (953K) [text/plain]\n",
            "Saving to: ‘neko.txt.1’\n",
            "\n",
            "neko.txt.1          100%[===================>] 952.92K  --.-KB/s    in 0.03s   \n",
            "\n",
            "2022-12-04 20:39:20 (28.0 MB/s) - ‘neko.txt.1’ saved [975789/975789]\n",
            "\n"
          ]
        }
      ]
    },
    {
      "cell_type": "code",
      "source": [
        "!sudo apt install mecab libmecab-dev mecab-ipadic-utf8\n",
        "!mecab neko.txt -o neko.txt.mecab"
      ],
      "metadata": {
        "id": "MluPbGAgI7jN",
        "colab": {
          "base_uri": "https://localhost:8080/"
        },
        "outputId": "53d8ac55-73ac-43f1-f844-9a6d436de06d"
      },
      "execution_count": 23,
      "outputs": [
        {
          "output_type": "stream",
          "name": "stdout",
          "text": [
            "Reading package lists... Done\n",
            "Building dependency tree       \n",
            "Reading state information... Done\n",
            "libmecab-dev is already the newest version (0.996-5).\n",
            "mecab is already the newest version (0.996-5).\n",
            "mecab-ipadic-utf8 is already the newest version (2.7.0-20070801+main-1).\n",
            "The following package was automatically installed and is no longer required:\n",
            "  libnvidia-common-460\n",
            "Use 'sudo apt autoremove' to remove it.\n",
            "0 upgraded, 0 newly installed, 0 to remove and 7 not upgraded.\n"
          ]
        }
      ]
    },
    {
      "cell_type": "markdown",
      "source": [
        "## 30. 形態素解析結果の読み込み\n",
        "---\n",
        "形態素解析結果（neko.txt.mecab）を読み込むプログラムを実装せよ．ただし，各形態素は表層形（surface），基本形（base），品詞（pos），品詞細分類1（pos1）をキーとするマッピング型に格納し，1文を形態素（マッピング型）のリストとして表現せよ．第4章の残りの問題では，ここで作ったプログラムを活用せよ．"
      ],
      "metadata": {
        "id": "YtKpfXZ02sUM"
      }
    },
    {
      "cell_type": "code",
      "source": [
        "sentences = []\n",
        "sentence = []\n",
        "with open(\"./neko.txt.mecab\") as f:\n",
        "    for line in f:\n",
        "        if line == \"EOS\\n\":\n",
        "            sentences.append(sentence)\n",
        "            sentence = []\n",
        "        else:\n",
        "            surface, feature = line.split(\"\\t\")\n",
        "            features = feature.split(\",\")\n",
        "            morpheme_dict = {\n",
        "                \"surface\": surface,\n",
        "                \"base\": features[6],\n",
        "                \"pos\": features[0],\n",
        "                \"pos1\": features[1],\n",
        "            }\n",
        "            sentence.append(morpheme_dict)\n",
        "\n",
        "for sentence in sentences:\n",
        "    print(sentences)"
      ],
      "metadata": {
        "id": "Gt_x3O-x3UqZ",
        "colab": {
          "base_uri": "https://localhost:8080/"
        },
        "outputId": "0fb8899a-fc7a-4339-ef41-4d75f1c4a910"
      },
      "execution_count": 39,
      "outputs": [
        {
          "output_type": "stream",
          "name": "stdout",
          "text": [
            "[{'surface': '一', 'base': '一', 'pos': '名詞', 'pos1': '数'}, {'surface': '', 'base': '*\\n', 'pos': '記号', 'pos1': '一般'}]\n",
            "[{'surface': '', 'base': '*\\n', 'pos': '記号', 'pos1': '一般'}]\n",
            "[{'surface': '\\u3000', 'base': '\\u3000', 'pos': '記号', 'pos1': '空白'}, {'surface': '吾輩', 'base': '吾輩', 'pos': '名詞', 'pos1': '代名詞'}, {'surface': 'は', 'base': 'は', 'pos': '助詞', 'pos1': '係助詞'}, {'surface': '猫', 'base': '猫', 'pos': '名詞', 'pos1': '一般'}, {'surface': 'で', 'base': 'だ', 'pos': '助動詞', 'pos1': '*'}, {'surface': 'ある', 'base': 'ある', 'pos': '助動詞', 'pos1': '*'}, {'surface': '。', 'base': '。', 'pos': '記号', 'pos1': '句点'}, {'surface': '', 'base': '*\\n', 'pos': '記号', 'pos1': '一般'}]\n",
            "[{'surface': '名前', 'base': '名前', 'pos': '名詞', 'pos1': '一般'}, {'surface': 'は', 'base': 'は', 'pos': '助詞', 'pos1': '係助詞'}, {'surface': 'まだ', 'base': 'まだ', 'pos': '副詞', 'pos1': '助詞類接続'}, {'surface': '無い', 'base': '無い', 'pos': '形容詞', 'pos1': '自立'}, {'surface': '。', 'base': '。', 'pos': '記号', 'pos1': '句点'}, {'surface': '', 'base': '*\\n', 'pos': '記号', 'pos1': '一般'}]\n",
            "[{'surface': '', 'base': '*\\n', 'pos': '記号', 'pos1': '一般'}]\n",
            "[{'surface': '\\u3000', 'base': '\\u3000', 'pos': '記号', 'pos1': '空白'}, {'surface': 'どこ', 'base': 'どこ', 'pos': '名詞', 'pos1': '代名詞'}, {'surface': 'で', 'base': 'で', 'pos': '助詞', 'pos1': '格助詞'}, {'surface': '生れ', 'base': '生れる', 'pos': '動詞', 'pos1': '自立'}, {'surface': 'た', 'base': 'た', 'pos': '助動詞', 'pos1': '*'}, {'surface': 'か', 'base': 'か', 'pos': '助詞', 'pos1': '副助詞／並立助詞／終助詞'}, {'surface': 'とんと', 'base': 'とんと', 'pos': '副詞', 'pos1': '一般'}, {'surface': '見当', 'base': '見当', 'pos': '名詞', 'pos1': 'サ変接続'}, {'surface': 'が', 'base': 'が', 'pos': '助詞', 'pos1': '格助詞'}, {'surface': 'つか', 'base': 'つく', 'pos': '動詞', 'pos1': '自立'}, {'surface': 'ぬ', 'base': 'ぬ', 'pos': '助動詞', 'pos1': '*'}, {'surface': '。', 'base': '。', 'pos': '記号', 'pos1': '句点'}, {'surface': '', 'base': '*\\n', 'pos': '記号', 'pos1': '一般'}]\n",
            "[{'surface': '何', 'base': '何', 'pos': '名詞', 'pos1': '代名詞'}, {'surface': 'でも', 'base': 'でも', 'pos': '助詞', 'pos1': '副助詞'}, {'surface': '薄暗い', 'base': '薄暗い', 'pos': '形容詞', 'pos1': '自立'}, {'surface': 'じめじめ', 'base': 'じめじめ', 'pos': '副詞', 'pos1': '一般'}, {'surface': 'し', 'base': 'する', 'pos': '動詞', 'pos1': '自立'}, {'surface': 'た', 'base': 'た', 'pos': '助動詞', 'pos1': '*'}, {'surface': '所', 'base': '所', 'pos': '名詞', 'pos1': '非自立'}, {'surface': 'で', 'base': 'で', 'pos': '助詞', 'pos1': '格助詞'}, {'surface': 'ニャーニャー', 'base': '*\\n', 'pos': '名詞', 'pos1': '一般'}, {'surface': '泣い', 'base': '泣く', 'pos': '動詞', 'pos1': '自立'}, {'surface': 'て', 'base': 'て', 'pos': '助詞', 'pos1': '接続助詞'}, {'surface': 'いた事', 'base': 'いた事', 'pos': '名詞', 'pos1': '一般'}, {'surface': 'だけ', 'base': 'だけ', 'pos': '助詞', 'pos1': '副助詞'}, {'surface': 'は', 'base': 'は', 'pos': '助詞', 'pos1': '係助詞'}, {'surface': '記憶', 'base': '記憶', 'pos': '名詞', 'pos1': 'サ変接続'}, {'surface': 'し', 'base': 'する', 'pos': '動詞', 'pos1': '自立'}, {'surface': 'て', 'base': 'て', 'pos': '助詞', 'pos1': '接続助詞'}, {'surface': 'いる', 'base': 'いる', 'pos': '動詞', 'pos1': '非自立'}, {'surface': '。', 'base': '。', 'pos': '記号', 'pos1': '句点'}, {'surface': '', 'base': '*\\n', 'pos': '記号', 'pos1': '一般'}]\n",
            "[{'surface': '吾輩', 'base': '吾輩', 'pos': '名詞', 'pos1': '代名詞'}, {'surface': 'は', 'base': 'は', 'pos': '助詞', 'pos1': '係助詞'}, {'surface': 'ここ', 'base': 'ここ', 'pos': '名詞', 'pos1': '代名詞'}, {'surface': 'で', 'base': 'で', 'pos': '助詞', 'pos1': '格助詞'}, {'surface': '始め', 'base': '始める', 'pos': '動詞', 'pos1': '自立'}, {'surface': 'て', 'base': 'て', 'pos': '助詞', 'pos1': '接続助詞'}, {'surface': '人間', 'base': '人間', 'pos': '名詞', 'pos1': '一般'}, {'surface': 'という', 'base': 'という', 'pos': '助詞', 'pos1': '格助詞'}, {'surface': 'もの', 'base': 'もの', 'pos': '名詞', 'pos1': '非自立'}, {'surface': 'を', 'base': 'を', 'pos': '助詞', 'pos1': '格助詞'}, {'surface': '見', 'base': '見る', 'pos': '動詞', 'pos1': '自立'}, {'surface': 'た', 'base': 'た', 'pos': '助動詞', 'pos1': '*'}, {'surface': '。', 'base': '。', 'pos': '記号', 'pos1': '句点'}, {'surface': '', 'base': '*\\n', 'pos': '記号', 'pos1': '一般'}]\n",
            "[{'surface': 'しかも', 'base': 'しかも', 'pos': '接続詞', 'pos1': '*'}, {'surface': 'あと', 'base': 'あと', 'pos': '名詞', 'pos1': '一般'}, {'surface': 'で', 'base': 'で', 'pos': '助詞', 'pos1': '格助詞'}, {'surface': '聞く', 'base': '聞く', 'pos': '動詞', 'pos1': '自立'}, {'surface': 'と', 'base': 'と', 'pos': '助詞', 'pos1': '接続助詞'}, {'surface': 'それ', 'base': 'それ', 'pos': '名詞', 'pos1': '代名詞'}, {'surface': 'は', 'base': 'は', 'pos': '助詞', 'pos1': '係助詞'}, {'surface': '書生', 'base': '書生', 'pos': '名詞', 'pos1': '一般'}, {'surface': 'という', 'base': 'という', 'pos': '助詞', 'pos1': '格助詞'}, {'surface': '人間', 'base': '人間', 'pos': '名詞', 'pos1': '一般'}, {'surface': '中', 'base': '中', 'pos': '名詞', 'pos1': '接尾'}, {'surface': 'で', 'base': 'で', 'pos': '助詞', 'pos1': '格助詞'}, {'surface': '一番', 'base': '一番', 'pos': '名詞', 'pos1': '副詞可能'}, {'surface': '獰悪', 'base': '獰悪', 'pos': '名詞', 'pos1': '形容動詞語幹'}, {'surface': 'な', 'base': 'だ', 'pos': '助動詞', 'pos1': '*'}, {'surface': '種族', 'base': '種族', 'pos': '名詞', 'pos1': '一般'}, {'surface': 'で', 'base': 'だ', 'pos': '助動詞', 'pos1': '*'}, {'surface': 'あっ', 'base': 'ある', 'pos': '助動詞', 'pos1': '*'}, {'surface': 'た', 'base': 'た', 'pos': '助動詞', 'pos1': '*'}, {'surface': 'そう', 'base': 'そう', 'pos': '名詞', 'pos1': '特殊'}, {'surface': 'だ', 'base': 'だ', 'pos': '助動詞', 'pos1': '*'}, {'surface': '。', 'base': '。', 'pos': '記号', 'pos1': '句点'}, {'surface': '', 'base': '*\\n', 'pos': '記号', 'pos1': '一般'}]\n",
            "[{'surface': 'この', 'base': 'この', 'pos': '連体詞', 'pos1': '*'}, {'surface': '書生', 'base': '書生', 'pos': '名詞', 'pos1': '一般'}, {'surface': 'という', 'base': 'という', 'pos': '助詞', 'pos1': '格助詞'}, {'surface': 'の', 'base': 'の', 'pos': '名詞', 'pos1': '非自立'}, {'surface': 'は', 'base': 'は', 'pos': '助詞', 'pos1': '係助詞'}, {'surface': '時々', 'base': '時々', 'pos': '副詞', 'pos1': '一般'}, {'surface': '我々', 'base': '我々', 'pos': '名詞', 'pos1': '代名詞'}, {'surface': 'を', 'base': 'を', 'pos': '助詞', 'pos1': '格助詞'}, {'surface': '捕え', 'base': '捕える', 'pos': '動詞', 'pos1': '自立'}, {'surface': 'て', 'base': 'て', 'pos': '助詞', 'pos1': '接続助詞'}, {'surface': '煮', 'base': '煮る', 'pos': '動詞', 'pos1': '自立'}, {'surface': 'て', 'base': 'て', 'pos': '助詞', 'pos1': '接続助詞'}, {'surface': '食う', 'base': '食う', 'pos': '動詞', 'pos1': '自立'}, {'surface': 'という', 'base': 'という', 'pos': '助詞', 'pos1': '格助詞'}, {'surface': '話', 'base': '話', 'pos': '名詞', 'pos1': 'サ変接続'}, {'surface': 'で', 'base': 'だ', 'pos': '助動詞', 'pos1': '*'}, {'surface': 'ある', 'base': 'ある', 'pos': '助動詞', 'pos1': '*'}, {'surface': '。', 'base': '。', 'pos': '記号', 'pos1': '句点'}, {'surface': '', 'base': '*\\n', 'pos': '記号', 'pos1': '一般'}]\n"
          ]
        }
      ]
    },
    {
      "cell_type": "markdown",
      "source": [
        "## 31. 動詞Permalink\n",
        "---\n",
        "動詞の表層形をすべて抽出せよ．"
      ],
      "metadata": {
        "id": "drBaISP1tZhw"
      }
    },
    {
      "cell_type": "code",
      "source": [],
      "metadata": {
        "id": "GE8TYCzTt4Vo"
      },
      "execution_count": null,
      "outputs": []
    },
    {
      "cell_type": "markdown",
      "source": [
        "## 32. 動詞の基本形\n",
        "---\n",
        "動詞の基本形をすべて抽出せよ．"
      ],
      "metadata": {
        "id": "9XrFU7FC4wPJ"
      }
    },
    {
      "cell_type": "code",
      "source": [],
      "metadata": {
        "id": "-rtmr1fo5FxY"
      },
      "execution_count": null,
      "outputs": []
    },
    {
      "cell_type": "markdown",
      "source": [
        "## 33. 「AのB」\n",
        "---\n",
        "2つの名詞が「の」で連結されている名詞句を抽出せよ．"
      ],
      "metadata": {
        "id": "qM8Oh2xF5gv6"
      }
    },
    {
      "cell_type": "code",
      "source": [],
      "metadata": {
        "id": "eeiA2Jxm6Ks3"
      },
      "execution_count": null,
      "outputs": []
    },
    {
      "cell_type": "markdown",
      "source": [
        "## 34. 名詞の連接\n",
        "---\n",
        "名詞の連接（連続して出現する名詞）を最長一致で抽出せよ．"
      ],
      "metadata": {
        "id": "kU1t8DcC5RcH"
      }
    },
    {
      "cell_type": "code",
      "source": [],
      "metadata": {
        "id": "tuPL0www6KSe"
      },
      "execution_count": null,
      "outputs": []
    },
    {
      "cell_type": "markdown",
      "source": [
        "## 35. 単語の出現頻度\n",
        "---\n",
        "文章中に出現する単語とその出現頻度を求め，出現頻度の高い順に並べよ．"
      ],
      "metadata": {
        "id": "lLIUhBth5X3p"
      }
    },
    {
      "cell_type": "code",
      "source": [],
      "metadata": {
        "id": "eEhtUeFm6JyA"
      },
      "execution_count": null,
      "outputs": []
    },
    {
      "cell_type": "markdown",
      "source": [
        "## 36. 頻度上位10語\n",
        "---\n",
        "出現頻度が高い10語とその出現頻度をグラフ（例えば棒グラフなど）で表示せよ．"
      ],
      "metadata": {
        "id": "GOHBNstV5m0k"
      }
    },
    {
      "cell_type": "code",
      "source": [],
      "metadata": {
        "id": "OfAaaw4C6JLQ"
      },
      "execution_count": null,
      "outputs": []
    },
    {
      "cell_type": "markdown",
      "source": [
        "## 37. 「猫」と共起頻度の高い上位10語\n",
        "---\n",
        "「猫」とよく共起する（共起頻度が高い）10語とその出現頻度をグラフ（例えば棒グラフなど）で表示せよ．"
      ],
      "metadata": {
        "id": "ngMBE-7r5tZ8"
      }
    },
    {
      "cell_type": "code",
      "source": [],
      "metadata": {
        "id": "HzReSHmz6Isz"
      },
      "execution_count": null,
      "outputs": []
    },
    {
      "cell_type": "markdown",
      "source": [
        "## 38. ヒストグラム\n",
        "---\n",
        "単語の出現頻度のヒストグラムを描け．ただし，横軸は出現頻度を表し，1から単語の出現頻度の最大値までの線形目盛とする．縦軸はx軸で示される出現頻度となった単語の異なり数（種類数）である．"
      ],
      "metadata": {
        "id": "6PJaiRui6AD_"
      }
    },
    {
      "cell_type": "code",
      "source": [],
      "metadata": {
        "id": "jNl5dYe2G-uF"
      },
      "execution_count": null,
      "outputs": []
    },
    {
      "cell_type": "markdown",
      "source": [
        "## 39. Zipfの法則\n",
        "---\n",
        "単語の出現頻度順位を横軸，その出現頻度を縦軸として，両対数グラフをプロットせよ．"
      ],
      "metadata": {
        "id": "Tclp37O76Gu2"
      }
    },
    {
      "cell_type": "code",
      "source": [],
      "metadata": {
        "id": "KUucxgt1__Db"
      },
      "execution_count": null,
      "outputs": []
    }
  ]
}