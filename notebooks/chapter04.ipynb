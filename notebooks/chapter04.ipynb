{
  "nbformat": 4,
  "nbformat_minor": 0,
  "metadata": {
    "colab": {
      "provenance": []
    },
    "kernelspec": {
      "name": "python3",
      "display_name": "Python 3"
    },
    "language_info": {
      "name": "python"
    },
    "gpuClass": "standard"
  },
  "cells": [
    {
      "cell_type": "markdown",
      "source": [
        "# 第4章: 形態素解析\n",
        "\n",
        "夏目漱石の小説『吾輩は猫である』の文章（[neko.txt](https://nlp100.github.io/data/neko.txt)）をMeCabを使って形態素解析し，その結果をneko.txt.mecabというファイルに保存せよ．このファイルを用いて，以下の問に対応するプログラムを実装せよ．\n",
        "\n",
        "なお，問題37, 38, 39は[matplotlib](http://matplotlib.org/)もしくは[Gnuplot](http://www.gnuplot.info/)を用いるとよい．\n"
      ],
      "metadata": {
        "id": "iBPFEkMS3ncN"
      }
    },
    {
      "cell_type": "code",
      "source": [
        "!wget https://nlp100.github.io/data/neko.txt"
      ],
      "metadata": {
        "id": "1YQpfygsrJ49",
        "colab": {
          "base_uri": "https://localhost:8080/"
        },
        "outputId": "615e12db-26ff-40be-e180-5e46f4c5732d"
      },
      "execution_count": 1,
      "outputs": [
        {
          "output_type": "stream",
          "name": "stdout",
          "text": [
            "--2023-02-04 20:17:44--  https://nlp100.github.io/data/neko.txt\n",
            "Resolving nlp100.github.io (nlp100.github.io)... 185.199.108.153, 185.199.109.153, 185.199.110.153, ...\n",
            "Connecting to nlp100.github.io (nlp100.github.io)|185.199.108.153|:443... connected.\n",
            "HTTP request sent, awaiting response... 200 OK\n",
            "Length: 975789 (953K) [text/plain]\n",
            "Saving to: ‘neko.txt’\n",
            "\n",
            "neko.txt            100%[===================>] 952.92K  --.-KB/s    in 0.06s   \n",
            "\n",
            "2023-02-04 20:17:45 (16.1 MB/s) - ‘neko.txt’ saved [975789/975789]\n",
            "\n"
          ]
        }
      ]
    },
    {
      "cell_type": "code",
      "source": [
        "!sudo apt install mecab libmecab-dev mecab-ipadic-utf8\n",
        "!mecab neko.txt -o neko.txt.mecab"
      ],
      "metadata": {
        "id": "MluPbGAgI7jN",
        "colab": {
          "base_uri": "https://localhost:8080/"
        },
        "outputId": "26a4c6a2-1574-453f-9c12-b772a6a3ee74"
      },
      "execution_count": 2,
      "outputs": [
        {
          "output_type": "stream",
          "name": "stdout",
          "text": [
            "Reading package lists... Done\n",
            "Building dependency tree       \n",
            "Reading state information... Done\n",
            "The following package was automatically installed and is no longer required:\n",
            "  libnvidia-common-510\n",
            "Use 'sudo apt autoremove' to remove it.\n",
            "The following additional packages will be installed:\n",
            "  libmecab2 mecab-ipadic mecab-utils\n",
            "The following NEW packages will be installed:\n",
            "  libmecab-dev libmecab2 mecab mecab-ipadic mecab-ipadic-utf8 mecab-utils\n",
            "0 upgraded, 6 newly installed, 0 to remove and 27 not upgraded.\n",
            "Need to get 7,373 kB of archives.\n",
            "After this operation, 60.4 MB of additional disk space will be used.\n",
            "Get:1 http://archive.ubuntu.com/ubuntu focal/main amd64 libmecab2 amd64 0.996-10build1 [233 kB]\n",
            "Get:2 http://archive.ubuntu.com/ubuntu focal/main amd64 libmecab-dev amd64 0.996-10build1 [285 kB]\n",
            "Get:3 http://archive.ubuntu.com/ubuntu focal/main amd64 mecab-utils amd64 0.996-10build1 [4,912 B]\n",
            "Get:4 http://archive.ubuntu.com/ubuntu focal/main amd64 mecab-ipadic all 2.7.0-20070801+main-2.1 [6,714 kB]\n",
            "Get:5 http://archive.ubuntu.com/ubuntu focal/universe amd64 mecab amd64 0.996-10build1 [132 kB]\n",
            "Get:6 http://archive.ubuntu.com/ubuntu focal/main amd64 mecab-ipadic-utf8 all 2.7.0-20070801+main-2.1 [4,380 B]\n",
            "Fetched 7,373 kB in 2s (3,163 kB/s)\n",
            "debconf: unable to initialize frontend: Dialog\n",
            "debconf: (No usable dialog-like program is installed, so the dialog based frontend cannot be used. at /usr/share/perl5/Debconf/FrontEnd/Dialog.pm line 76, <> line 6.)\n",
            "debconf: falling back to frontend: Readline\n",
            "debconf: unable to initialize frontend: Readline\n",
            "debconf: (This frontend requires a controlling tty.)\n",
            "debconf: falling back to frontend: Teletype\n",
            "dpkg-preconfigure: unable to re-open stdin: \n",
            "Selecting previously unselected package libmecab2:amd64.\n",
            "(Reading database ... 129496 files and directories currently installed.)\n",
            "Preparing to unpack .../0-libmecab2_0.996-10build1_amd64.deb ...\n",
            "Unpacking libmecab2:amd64 (0.996-10build1) ...\n",
            "Selecting previously unselected package libmecab-dev.\n",
            "Preparing to unpack .../1-libmecab-dev_0.996-10build1_amd64.deb ...\n",
            "Unpacking libmecab-dev (0.996-10build1) ...\n",
            "Selecting previously unselected package mecab-utils.\n",
            "Preparing to unpack .../2-mecab-utils_0.996-10build1_amd64.deb ...\n",
            "Unpacking mecab-utils (0.996-10build1) ...\n",
            "Selecting previously unselected package mecab-ipadic.\n",
            "Preparing to unpack .../3-mecab-ipadic_2.7.0-20070801+main-2.1_all.deb ...\n",
            "Unpacking mecab-ipadic (2.7.0-20070801+main-2.1) ...\n",
            "Selecting previously unselected package mecab.\n",
            "Preparing to unpack .../4-mecab_0.996-10build1_amd64.deb ...\n",
            "Unpacking mecab (0.996-10build1) ...\n",
            "Selecting previously unselected package mecab-ipadic-utf8.\n",
            "Preparing to unpack .../5-mecab-ipadic-utf8_2.7.0-20070801+main-2.1_all.deb ...\n",
            "Unpacking mecab-ipadic-utf8 (2.7.0-20070801+main-2.1) ...\n",
            "Setting up libmecab2:amd64 (0.996-10build1) ...\n",
            "Setting up libmecab-dev (0.996-10build1) ...\n",
            "Setting up mecab-utils (0.996-10build1) ...\n",
            "Setting up mecab-ipadic (2.7.0-20070801+main-2.1) ...\n",
            "Compiling IPA dictionary for Mecab.  This takes long time...\n",
            "reading /usr/share/mecab/dic/ipadic/unk.def ... 40\n",
            "emitting double-array: 100% |###########################################| \n",
            "/usr/share/mecab/dic/ipadic/model.def is not found. skipped.\n",
            "reading /usr/share/mecab/dic/ipadic/Noun.proper.csv ... 27328\n",
            "reading /usr/share/mecab/dic/ipadic/Conjunction.csv ... 171\n",
            "reading /usr/share/mecab/dic/ipadic/Noun.number.csv ... 42\n",
            "reading /usr/share/mecab/dic/ipadic/Interjection.csv ... 252\n",
            "reading /usr/share/mecab/dic/ipadic/Adverb.csv ... 3032\n",
            "reading /usr/share/mecab/dic/ipadic/Noun.place.csv ... 72999\n",
            "reading /usr/share/mecab/dic/ipadic/Noun.others.csv ... 151\n",
            "reading /usr/share/mecab/dic/ipadic/Filler.csv ... 19\n",
            "reading /usr/share/mecab/dic/ipadic/Noun.demonst.csv ... 120\n",
            "reading /usr/share/mecab/dic/ipadic/Noun.csv ... 60477\n",
            "reading /usr/share/mecab/dic/ipadic/Suffix.csv ... 1393\n",
            "reading /usr/share/mecab/dic/ipadic/Verb.csv ... 130750\n",
            "reading /usr/share/mecab/dic/ipadic/Others.csv ... 2\n",
            "reading /usr/share/mecab/dic/ipadic/Adnominal.csv ... 135\n",
            "reading /usr/share/mecab/dic/ipadic/Noun.adjv.csv ... 3328\n",
            "reading /usr/share/mecab/dic/ipadic/Noun.name.csv ... 34202\n",
            "reading /usr/share/mecab/dic/ipadic/Noun.nai.csv ... 42\n",
            "reading /usr/share/mecab/dic/ipadic/Prefix.csv ... 221\n",
            "reading /usr/share/mecab/dic/ipadic/Noun.adverbal.csv ... 795\n",
            "reading /usr/share/mecab/dic/ipadic/Adj.csv ... 27210\n",
            "reading /usr/share/mecab/dic/ipadic/Symbol.csv ... 208\n",
            "reading /usr/share/mecab/dic/ipadic/Noun.org.csv ... 16668\n",
            "reading /usr/share/mecab/dic/ipadic/Postp.csv ... 146\n",
            "reading /usr/share/mecab/dic/ipadic/Postp-col.csv ... 91\n",
            "reading /usr/share/mecab/dic/ipadic/Auxil.csv ... 199\n",
            "reading /usr/share/mecab/dic/ipadic/Noun.verbal.csv ... 12146\n",
            "emitting double-array: 100% |###########################################| \n",
            "reading /usr/share/mecab/dic/ipadic/matrix.def ... 1316x1316\n",
            "emitting matrix      : 100% |###########################################| \n",
            "\n",
            "done!\n",
            "update-alternatives: using /var/lib/mecab/dic/ipadic to provide /var/lib/mecab/dic/debian (mecab-dictionary) in auto mode\n",
            "Setting up mecab (0.996-10build1) ...\n",
            "debconf: unable to initialize frontend: Dialog\n",
            "debconf: (No usable dialog-like program is installed, so the dialog based frontend cannot be used. at /usr/share/perl5/Debconf/FrontEnd/Dialog.pm line 76.)\n",
            "debconf: falling back to frontend: Readline\n",
            "Compiling IPA dictionary for Mecab.  This takes long time...\n",
            "reading /usr/share/mecab/dic/ipadic/unk.def ... 40\n",
            "emitting double-array: 100% |###########################################| \n",
            "/usr/share/mecab/dic/ipadic/model.def is not found. skipped.\n",
            "reading /usr/share/mecab/dic/ipadic/Noun.proper.csv ... 27328\n",
            "reading /usr/share/mecab/dic/ipadic/Conjunction.csv ... 171\n",
            "reading /usr/share/mecab/dic/ipadic/Noun.number.csv ... 42\n",
            "reading /usr/share/mecab/dic/ipadic/Interjection.csv ... 252\n",
            "reading /usr/share/mecab/dic/ipadic/Adverb.csv ... 3032\n",
            "reading /usr/share/mecab/dic/ipadic/Noun.place.csv ... 72999\n",
            "reading /usr/share/mecab/dic/ipadic/Noun.others.csv ... 151\n",
            "reading /usr/share/mecab/dic/ipadic/Filler.csv ... 19\n",
            "reading /usr/share/mecab/dic/ipadic/Noun.demonst.csv ... 120\n",
            "reading /usr/share/mecab/dic/ipadic/Noun.csv ... 60477\n",
            "reading /usr/share/mecab/dic/ipadic/Suffix.csv ... 1393\n",
            "reading /usr/share/mecab/dic/ipadic/Verb.csv ... 130750\n",
            "reading /usr/share/mecab/dic/ipadic/Others.csv ... 2\n",
            "reading /usr/share/mecab/dic/ipadic/Adnominal.csv ... 135\n",
            "reading /usr/share/mecab/dic/ipadic/Noun.adjv.csv ... 3328\n",
            "reading /usr/share/mecab/dic/ipadic/Noun.name.csv ... 34202\n",
            "reading /usr/share/mecab/dic/ipadic/Noun.nai.csv ... 42\n",
            "reading /usr/share/mecab/dic/ipadic/Prefix.csv ... 221\n",
            "reading /usr/share/mecab/dic/ipadic/Noun.adverbal.csv ... 795\n",
            "reading /usr/share/mecab/dic/ipadic/Adj.csv ... 27210\n",
            "reading /usr/share/mecab/dic/ipadic/Symbol.csv ... 208\n",
            "reading /usr/share/mecab/dic/ipadic/Noun.org.csv ... 16668\n",
            "reading /usr/share/mecab/dic/ipadic/Postp.csv ... 146\n",
            "reading /usr/share/mecab/dic/ipadic/Postp-col.csv ... 91\n",
            "reading /usr/share/mecab/dic/ipadic/Auxil.csv ... 199\n",
            "reading /usr/share/mecab/dic/ipadic/Noun.verbal.csv ... 12146\n",
            "emitting double-array: 100% |###########################################| \n",
            "reading /usr/share/mecab/dic/ipadic/matrix.def ... 1316x1316\n",
            "emitting matrix      : 100% |###########################################| \n",
            "\n",
            "done!\n",
            "Setting up mecab-ipadic-utf8 (2.7.0-20070801+main-2.1) ...\n",
            "Compiling IPA dictionary for Mecab.  This takes long time...\n",
            "reading /usr/share/mecab/dic/ipadic/unk.def ... 40\n",
            "emitting double-array: 100% |###########################################| \n",
            "/usr/share/mecab/dic/ipadic/model.def is not found. skipped.\n",
            "reading /usr/share/mecab/dic/ipadic/Noun.proper.csv ... 27328\n",
            "reading /usr/share/mecab/dic/ipadic/Conjunction.csv ... 171\n",
            "reading /usr/share/mecab/dic/ipadic/Noun.number.csv ... 42\n",
            "reading /usr/share/mecab/dic/ipadic/Interjection.csv ... 252\n",
            "reading /usr/share/mecab/dic/ipadic/Adverb.csv ... 3032\n",
            "reading /usr/share/mecab/dic/ipadic/Noun.place.csv ... 72999\n",
            "reading /usr/share/mecab/dic/ipadic/Noun.others.csv ... 151\n",
            "reading /usr/share/mecab/dic/ipadic/Filler.csv ... 19\n",
            "reading /usr/share/mecab/dic/ipadic/Noun.demonst.csv ... 120\n",
            "reading /usr/share/mecab/dic/ipadic/Noun.csv ... 60477\n",
            "reading /usr/share/mecab/dic/ipadic/Suffix.csv ... 1393\n",
            "reading /usr/share/mecab/dic/ipadic/Verb.csv ... 130750\n",
            "reading /usr/share/mecab/dic/ipadic/Others.csv ... 2\n",
            "reading /usr/share/mecab/dic/ipadic/Adnominal.csv ... 135\n",
            "reading /usr/share/mecab/dic/ipadic/Noun.adjv.csv ... 3328\n",
            "reading /usr/share/mecab/dic/ipadic/Noun.name.csv ... 34202\n",
            "reading /usr/share/mecab/dic/ipadic/Noun.nai.csv ... 42\n",
            "reading /usr/share/mecab/dic/ipadic/Prefix.csv ... 221\n",
            "reading /usr/share/mecab/dic/ipadic/Noun.adverbal.csv ... 795\n",
            "reading /usr/share/mecab/dic/ipadic/Adj.csv ... 27210\n",
            "reading /usr/share/mecab/dic/ipadic/Symbol.csv ... 208\n",
            "reading /usr/share/mecab/dic/ipadic/Noun.org.csv ... 16668\n",
            "reading /usr/share/mecab/dic/ipadic/Postp.csv ... 146\n",
            "reading /usr/share/mecab/dic/ipadic/Postp-col.csv ... 91\n",
            "reading /usr/share/mecab/dic/ipadic/Auxil.csv ... 199\n",
            "reading /usr/share/mecab/dic/ipadic/Noun.verbal.csv ... 12146\n",
            "emitting double-array: 100% |###########################################| \n",
            "reading /usr/share/mecab/dic/ipadic/matrix.def ... 1316x1316\n",
            "emitting matrix      : 100% |###########################################| \n",
            "\n",
            "done!\n",
            "update-alternatives: using /var/lib/mecab/dic/ipadic-utf8 to provide /var/lib/mecab/dic/debian (mecab-dictionary) in auto mode\n",
            "Processing triggers for man-db (2.9.1-1) ...\n",
            "Processing triggers for libc-bin (2.31-0ubuntu9.9) ...\n"
          ]
        }
      ]
    },
    {
      "cell_type": "markdown",
      "source": [
        "## 30. 形態素解析結果の読み込み\n",
        "---\n",
        "形態素解析結果（neko.txt.mecab）を読み込むプログラムを実装せよ．ただし，各形態素は表層形（surface），基本形（base），品詞（pos），品詞細分類1（pos1）をキーとするマッピング型に格納し，1文を形態素（マッピング型）のリストとして表現せよ．第4章の残りの問題では，ここで作ったプログラムを活用せよ．"
      ],
      "metadata": {
        "id": "YtKpfXZ02sUM"
      }
    },
    {
      "cell_type": "code",
      "source": [
        "morphemes_list = []\n",
        "morphemes = []\n",
        "with open('./neko.txt.mecab', 'r') as f:\n",
        "    for line in f:\n",
        "        if line == 'EOS\\n':\n",
        "            morphemes_list.append(morphemes)\n",
        "            morphemes = []\n",
        "        elif len(line) > 1:\n",
        "            surface, features = line.split('\\t')\n",
        "            features = features.split(',')\n",
        "            morphemes.append({\n",
        "                'surface': surface,\n",
        "                'base': features[6],\n",
        "                'pos': features[0],\n",
        "                'pos1': features[1],\n",
        "            })\n",
        "\n",
        "for morphemes in morphemes_list[2]:\n",
        "    print(morphemes)"
      ],
      "metadata": {
        "id": "Gt_x3O-x3UqZ",
        "colab": {
          "base_uri": "https://localhost:8080/"
        },
        "outputId": "5f568c7d-6c39-4d7a-e143-176a7c18d92f"
      },
      "execution_count": 52,
      "outputs": [
        {
          "output_type": "stream",
          "name": "stdout",
          "text": [
            "{'surface': '\\u3000', 'base': '\\u3000', 'pos': '記号', 'pos1': '空白'}\n",
            "{'surface': '吾輩', 'base': '吾輩', 'pos': '名詞', 'pos1': '代名詞'}\n",
            "{'surface': 'は', 'base': 'は', 'pos': '助詞', 'pos1': '係助詞'}\n",
            "{'surface': '猫', 'base': '猫', 'pos': '名詞', 'pos1': '一般'}\n",
            "{'surface': 'で', 'base': 'だ', 'pos': '助動詞', 'pos1': '*'}\n",
            "{'surface': 'ある', 'base': 'ある', 'pos': '助動詞', 'pos1': '*'}\n",
            "{'surface': '。', 'base': '。', 'pos': '記号', 'pos1': '句点'}\n",
            "{'surface': '', 'base': '*\\n', 'pos': '記号', 'pos1': '一般'}\n"
          ]
        }
      ]
    },
    {
      "cell_type": "markdown",
      "source": [
        "## 31. 動詞Permalink\n",
        "---\n",
        "動詞の表層形をすべて抽出せよ．"
      ],
      "metadata": {
        "id": "drBaISP1tZhw"
      }
    },
    {
      "cell_type": "code",
      "source": [
        "verb_surfaces = set()\n",
        "for morphemes in morphemes_list:\n",
        "    for morpheme in morphemes:\n",
        "        if morpheme['pos'] == \"動詞\":\n",
        "            verb_surfaces.add(morpheme['surface'])\n",
        "\n",
        "print(f\"動詞の表層形の種類: {len(verb_surfaces)}\\n\")\n",
        "for verb_surface in list(verb_surfaces)[:10]:\n",
        "    print(verb_surface)"
      ],
      "metadata": {
        "id": "GE8TYCzTt4Vo",
        "colab": {
          "base_uri": "https://localhost:8080/"
        },
        "outputId": "ea956ac2-7cbd-4474-bb1e-d9308dcf8b25"
      },
      "execution_count": 50,
      "outputs": [
        {
          "output_type": "stream",
          "name": "stdout",
          "text": [
            "動詞の表層形の種類: 3893\n",
            "\n",
            "あき\n",
            "断わっ\n",
            "のべる\n",
            "入り込ん\n",
            "洗い\n",
            "凌ぐ\n",
            "待つ\n",
            "くらん\n",
            "もらわ\n",
            "こし\n"
          ]
        }
      ]
    },
    {
      "cell_type": "markdown",
      "source": [
        "## 32. 動詞の基本形\n",
        "---\n",
        "動詞の基本形をすべて抽出せよ．"
      ],
      "metadata": {
        "id": "9XrFU7FC4wPJ"
      }
    },
    {
      "cell_type": "code",
      "source": [
        "verb_bases = set()\n",
        "for morphemes in morphemes_list:\n",
        "    for morpheme in morphemes:\n",
        "        if morpheme['pos'] == \"動詞\":\n",
        "            verb_bases.add(morpheme['base'])\n",
        "\n",
        "print(f\"動詞の基本形の種類: {len(verb_bases)}\\n\")\n",
        "for verb_base in list(verb_bases)[:10]:\n",
        "    print(verb_base)"
      ],
      "metadata": {
        "id": "-rtmr1fo5FxY",
        "colab": {
          "base_uri": "https://localhost:8080/"
        },
        "outputId": "48af3ec4-468d-4573-d5ea-f75d654f0279"
      },
      "execution_count": 53,
      "outputs": [
        {
          "output_type": "stream",
          "name": "stdout",
          "text": [
            "動詞の基本形の種類: 2300\n",
            "\n",
            "盛り込む\n",
            "せしめる\n",
            "漕ぎつける\n",
            "のべる\n",
            "凌ぐ\n",
            "待つ\n",
            "見透かす\n",
            "見向く\n",
            "受け取れる\n",
            "張り切れる\n"
          ]
        }
      ]
    },
    {
      "cell_type": "markdown",
      "source": [
        "## 33. 「AのB」\n",
        "---\n",
        "2つの名詞が「の」で連結されている名詞句を抽出せよ．"
      ],
      "metadata": {
        "id": "qM8Oh2xF5gv6"
      }
    },
    {
      "cell_type": "code",
      "source": [],
      "metadata": {
        "id": "eeiA2Jxm6Ks3"
      },
      "execution_count": 3,
      "outputs": []
    },
    {
      "cell_type": "markdown",
      "source": [
        "## 34. 名詞の連接\n",
        "---\n",
        "名詞の連接（連続して出現する名詞）を最長一致で抽出せよ．"
      ],
      "metadata": {
        "id": "kU1t8DcC5RcH"
      }
    },
    {
      "cell_type": "code",
      "source": [],
      "metadata": {
        "id": "tuPL0www6KSe"
      },
      "execution_count": 3,
      "outputs": []
    },
    {
      "cell_type": "markdown",
      "source": [
        "## 35. 単語の出現頻度\n",
        "---\n",
        "文章中に出現する単語とその出現頻度を求め，出現頻度の高い順に並べよ．"
      ],
      "metadata": {
        "id": "lLIUhBth5X3p"
      }
    },
    {
      "cell_type": "code",
      "source": [],
      "metadata": {
        "id": "eEhtUeFm6JyA"
      },
      "execution_count": 3,
      "outputs": []
    },
    {
      "cell_type": "markdown",
      "source": [
        "## 36. 頻度上位10語\n",
        "---\n",
        "出現頻度が高い10語とその出現頻度をグラフ（例えば棒グラフなど）で表示せよ．"
      ],
      "metadata": {
        "id": "GOHBNstV5m0k"
      }
    },
    {
      "cell_type": "code",
      "source": [],
      "metadata": {
        "id": "OfAaaw4C6JLQ"
      },
      "execution_count": 3,
      "outputs": []
    },
    {
      "cell_type": "markdown",
      "source": [
        "## 37. 「猫」と共起頻度の高い上位10語\n",
        "---\n",
        "「猫」とよく共起する（共起頻度が高い）10語とその出現頻度をグラフ（例えば棒グラフなど）で表示せよ．"
      ],
      "metadata": {
        "id": "ngMBE-7r5tZ8"
      }
    },
    {
      "cell_type": "code",
      "source": [],
      "metadata": {
        "id": "HzReSHmz6Isz"
      },
      "execution_count": 3,
      "outputs": []
    },
    {
      "cell_type": "markdown",
      "source": [
        "## 38. ヒストグラム\n",
        "---\n",
        "単語の出現頻度のヒストグラムを描け．ただし，横軸は出現頻度を表し，1から単語の出現頻度の最大値までの線形目盛とする．縦軸はx軸で示される出現頻度となった単語の異なり数（種類数）である．"
      ],
      "metadata": {
        "id": "6PJaiRui6AD_"
      }
    },
    {
      "cell_type": "code",
      "source": [],
      "metadata": {
        "id": "jNl5dYe2G-uF"
      },
      "execution_count": 3,
      "outputs": []
    },
    {
      "cell_type": "markdown",
      "source": [
        "## 39. Zipfの法則\n",
        "---\n",
        "単語の出現頻度順位を横軸，その出現頻度を縦軸として，両対数グラフをプロットせよ．"
      ],
      "metadata": {
        "id": "Tclp37O76Gu2"
      }
    },
    {
      "cell_type": "code",
      "source": [],
      "metadata": {
        "id": "KUucxgt1__Db"
      },
      "execution_count": 3,
      "outputs": []
    }
  ]
}