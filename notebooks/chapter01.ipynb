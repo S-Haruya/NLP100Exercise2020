{
  "nbformat": 4,
  "nbformat_minor": 0,
  "metadata": {
    "colab": {
      "provenance": []
    },
    "kernelspec": {
      "name": "python3",
      "display_name": "Python 3"
    },
    "language_info": {
      "name": "python"
    },
    "gpuClass": "standard"
  },
  "cells": [
    {
      "cell_type": "markdown",
      "source": [
        "# 第1章: 準備運動"
      ],
      "metadata": {
        "id": "iBPFEkMS3ncN"
      }
    },
    {
      "cell_type": "markdown",
      "source": [
        "## 00. 文字列の逆順\n",
        "---\n",
        "文字列”stressed”の文字を逆に（末尾から先頭に向かって）並べた文字列を得よ．"
      ],
      "metadata": {
        "id": "YtKpfXZ02sUM"
      }
    },
    {
      "cell_type": "code",
      "source": [
        "s = 'stressed'\n",
        "ans = s[::-1]\n",
        "\n",
        "print(ans)"
      ],
      "metadata": {
        "colab": {
          "base_uri": "https://localhost:8080/"
        },
        "id": "Gt_x3O-x3UqZ",
        "outputId": "4566f181-ce7c-4698-b39a-2502a2e06097"
      },
      "execution_count": 1,
      "outputs": [
        {
          "output_type": "stream",
          "name": "stdout",
          "text": [
            "desserts\n"
          ]
        }
      ]
    },
    {
      "cell_type": "markdown",
      "source": [
        "## 01. 「パタトクカシーー」\n",
        "---\n",
        "「パタトクカシーー」という文字列の1,3,5,7文字目を取り出して連結した文字列を得よ．"
      ],
      "metadata": {
        "id": "9XrFU7FC4wPJ"
      }
    },
    {
      "cell_type": "code",
      "source": [
        "s = 'パタトクカシーー'\n",
        "ans = s[::2]\n",
        "\n",
        "print(ans)"
      ],
      "metadata": {
        "colab": {
          "base_uri": "https://localhost:8080/"
        },
        "id": "-rtmr1fo5FxY",
        "outputId": "e824af9a-bd9d-4373-ff7e-2b57955b707f"
      },
      "execution_count": 2,
      "outputs": [
        {
          "output_type": "stream",
          "name": "stdout",
          "text": [
            "パトカー\n"
          ]
        }
      ]
    },
    {
      "cell_type": "markdown",
      "source": [
        "## 02. 「パトカー」＋「タクシー」＝「パタトクカシーー」\n",
        "---\n",
        "「パトカー」＋「タクシー」の文字を先頭から交互に連結して文字列「パタトクカシーー」を得よ．"
      ],
      "metadata": {
        "id": "qM8Oh2xF5gv6"
      }
    },
    {
      "cell_type": "code",
      "source": [
        "s1 = 'パトカー'\n",
        "s2 = 'タクシー'\n",
        "ans = ''.join([x + y for x, y in zip(s1, s2)])\n",
        "\n",
        "print(ans)"
      ],
      "metadata": {
        "colab": {
          "base_uri": "https://localhost:8080/"
        },
        "id": "eeiA2Jxm6Ks3",
        "outputId": "609ed766-9d39-4ab7-994b-c08d452a21f0"
      },
      "execution_count": 3,
      "outputs": [
        {
          "output_type": "stream",
          "name": "stdout",
          "text": [
            "パタトクカシーー\n"
          ]
        }
      ]
    },
    {
      "cell_type": "markdown",
      "source": [
        "## 03. 円周率\n",
        "---\n",
        "“Now I need a drink, alcoholic of course, after the heavy lectures involving quantum mechanics.”という文を単語に分解し，各単語の（アルファベットの）文字数を先頭から出現順に並べたリストを作成せよ．"
      ],
      "metadata": {
        "id": "kU1t8DcC5RcH"
      }
    },
    {
      "cell_type": "code",
      "source": [
        "s = 'Now I need a drink, alcoholic of course, after the heavy lectures involving quantum mechanics.'\n",
        "ans = [len(w.strip(',.')) for w in s.split()]\n",
        "\n",
        "print(ans)"
      ],
      "metadata": {
        "colab": {
          "base_uri": "https://localhost:8080/"
        },
        "id": "tuPL0www6KSe",
        "outputId": "85de1c33-5e1d-4796-fa92-4b91943b7831"
      },
      "execution_count": 4,
      "outputs": [
        {
          "output_type": "stream",
          "name": "stdout",
          "text": [
            "[3, 1, 4, 1, 5, 9, 2, 6, 5, 3, 5, 8, 9, 7, 9]\n"
          ]
        }
      ]
    },
    {
      "cell_type": "markdown",
      "source": [
        "## 04. 元素記号\n",
        "---\n",
        "“Hi He Lied Because Boron Could Not Oxidize Fluorine. New Nations Might Also Sign Peace Security Clause. Arthur King Can.”という文を単語に分解し，1, 5, 6, 7, 8, 9, 15, 16, 19番目の単語は先頭の1文字，それ以外の単語は先頭の2文字を取り出し，取り出した文字列から単語の位置（先頭から何番目の単語か）への連想配列（辞書型もしくはマップ型）を作成せよ．"
      ],
      "metadata": {
        "id": "lLIUhBth5X3p"
      }
    },
    {
      "cell_type": "code",
      "source": [
        "s = 'Hi He Lied Because Boron Could Not Oxidize Fluorine. New Nations Might Also Sign Peace Security Clause. Arthur King Can.'\n",
        "first_one = [1, 5, 6, 7, 8, 9, 15, 16, 19]\n",
        "ans = {}\n",
        "for i, w in enumerate(s.split(), 1):\n",
        "    if i in first_one:\n",
        "        ans[w[0]] = i\n",
        "    else:\n",
        "        ans[w[:2]] = i\n",
        "\n",
        "print(ans)"
      ],
      "metadata": {
        "colab": {
          "base_uri": "https://localhost:8080/"
        },
        "id": "eEhtUeFm6JyA",
        "outputId": "eb96e0fb-a02b-47e5-e30b-57613b295359"
      },
      "execution_count": 5,
      "outputs": [
        {
          "output_type": "stream",
          "name": "stdout",
          "text": [
            "{'H': 1, 'He': 2, 'Li': 3, 'Be': 4, 'B': 5, 'C': 6, 'N': 7, 'O': 8, 'F': 9, 'Ne': 10, 'Na': 11, 'Mi': 12, 'Al': 13, 'Si': 14, 'P': 15, 'S': 16, 'Cl': 17, 'Ar': 18, 'K': 19, 'Ca': 20}\n"
          ]
        }
      ]
    },
    {
      "cell_type": "markdown",
      "source": [
        "## 05. n-gram\n",
        "---\n",
        "与えられたシーケンス（文字列やリストなど）からn-gramを作る関数を作成せよ．この関数を用い，”I am an NLPer”という文から単語bi-gram，文字bi-gramを得よ．"
      ],
      "metadata": {
        "id": "GOHBNstV5m0k"
      }
    },
    {
      "cell_type": "code",
      "source": [
        "def n_gram(sequence, n):\n",
        "    return list(zip(*[sequence[i:] for i in range(n)]))\n",
        "\n",
        "s = 'I am an NLPer'\n",
        "print('単語bi-gram:', n_gram(s.split(), 2))\n",
        "print('文字bi-gram:', n_gram(''.join(s.split()), 2))"
      ],
      "metadata": {
        "colab": {
          "base_uri": "https://localhost:8080/"
        },
        "id": "OfAaaw4C6JLQ",
        "outputId": "0dda69ae-754e-45a7-d7ad-33c7189152bc"
      },
      "execution_count": 6,
      "outputs": [
        {
          "output_type": "stream",
          "name": "stdout",
          "text": [
            "単語bi-gram: [('I', 'am'), ('am', 'an'), ('an', 'NLPer')]\n",
            "文字bi-gram: [('I', 'a'), ('a', 'm'), ('m', 'a'), ('a', 'n'), ('n', 'N'), ('N', 'L'), ('L', 'P'), ('P', 'e'), ('e', 'r')]\n"
          ]
        }
      ]
    },
    {
      "cell_type": "markdown",
      "source": [
        "## 06. 集合\n",
        "---\n",
        "“paraparaparadise”と”paragraph”に含まれる文字bi-gramの集合を，それぞれ, XとYとして求め，XとYの和集合，積集合，差集合を求めよ．さらに，’se’というbi-gramがXおよびYに含まれるかどうかを調べよ．\n"
      ],
      "metadata": {
        "id": "ngMBE-7r5tZ8"
      }
    },
    {
      "cell_type": "code",
      "source": [
        "s1 = 'paraparaparadise'\n",
        "s2 = 'paragraph'\n",
        "X = set(n_gram(s1, 2))\n",
        "Y = set(n_gram(s2, 2))\n",
        "\n",
        "print('和集合:', X | Y)\n",
        "print('積集合:', X & Y)\n",
        "print('差集合:', X - Y)\n",
        "print('Xに含まれるか?:', ('s', 'e') in X)\n",
        "print('Yに含まれるか?:', ('s', 'e') in Y)"
      ],
      "metadata": {
        "id": "HzReSHmz6Isz",
        "colab": {
          "base_uri": "https://localhost:8080/"
        },
        "outputId": "aa7c62aa-2de2-454d-c166-7fd82e979742"
      },
      "execution_count": 7,
      "outputs": [
        {
          "output_type": "stream",
          "name": "stdout",
          "text": [
            "和集合: {('s', 'e'), ('a', 'r'), ('a', 'g'), ('p', 'a'), ('g', 'r'), ('r', 'a'), ('a', 'd'), ('i', 's'), ('d', 'i'), ('a', 'p'), ('p', 'h')}\n",
            "積集合: {('a', 'r'), ('p', 'a'), ('r', 'a'), ('a', 'p')}\n",
            "差集合: {('s', 'e'), ('d', 'i'), ('a', 'd'), ('i', 's')}\n",
            "Xに含まれるか?: True\n",
            "Yに含まれるか?: False\n"
          ]
        }
      ]
    },
    {
      "cell_type": "markdown",
      "source": [
        "## 07. テンプレートによる文生成\n",
        "---\n",
        "引数x, y, zを受け取り「x時のyはz」という文字列を返す関数を実装せよ．さらに，x=12, y=”気温”, z=22.4として，実行結果を確認せよ．"
      ],
      "metadata": {
        "id": "6PJaiRui6AD_"
      }
    },
    {
      "cell_type": "code",
      "source": [
        "def generate_sentence(x, y, z):\n",
        "    return f'{x}時の{y}は{z}'\n",
        "\n",
        "print(generate_sentence(12, '気温', 22.4))"
      ],
      "metadata": {
        "id": "jNl5dYe2G-uF",
        "colab": {
          "base_uri": "https://localhost:8080/"
        },
        "outputId": "071ae6f0-bd4a-4356-ed8e-6254a3d8d2a7"
      },
      "execution_count": 8,
      "outputs": [
        {
          "output_type": "stream",
          "name": "stdout",
          "text": [
            "12時の気温は22.4\n"
          ]
        }
      ]
    },
    {
      "cell_type": "markdown",
      "source": [
        "## 08. 暗号文\n",
        "---\n",
        "与えられた文字列の各文字を，以下の仕様で変換する関数cipherを実装せよ．\n",
        "\n",
        "* 英小文字ならば(219 - 文字コード)の文字に置換\n",
        "* その他の文字はそのまま出力\n",
        "\n",
        "この関数を用い，英語のメッセージを暗号化・復号化せよ．"
      ],
      "metadata": {
        "id": "Tclp37O76Gu2"
      }
    },
    {
      "cell_type": "code",
      "source": [
        "def cipher(sentence):\n",
        "    result = ''\n",
        "    for letter in sentence:\n",
        "        if letter.islower():\n",
        "            result += chr(219 - ord(letter))\n",
        "        else:\n",
        "            result += letter\n",
        "    return result\n",
        "\n",
        "s = 'Anyone who has never made a mistake has never tried anything new.'\n",
        "print('平文:', s)\n",
        "print('暗号化:', cipher(s))\n",
        "print('復号化:', cipher(cipher(s)))"
      ],
      "metadata": {
        "id": "cbbLrGIUG_Fy",
        "colab": {
          "base_uri": "https://localhost:8080/"
        },
        "outputId": "452714a6-5af7-473c-a21e-6c5b6a5df90e"
      },
      "execution_count": 9,
      "outputs": [
        {
          "output_type": "stream",
          "name": "stdout",
          "text": [
            "平文: Anyone who has never made a mistake has never tried anything new.\n",
            "暗号化: Amblmv dsl szh mvevi nzwv z nrhgzpv szh mvevi girvw zmbgsrmt mvd.\n",
            "復号化: Anyone who has never made a mistake has never tried anything new.\n"
          ]
        }
      ]
    },
    {
      "cell_type": "markdown",
      "source": [
        "## 09. Typoglycemia\n",
        "---\n",
        "スペースで区切られた単語列に対して，各単語の先頭と末尾の文字は残し，それ以外の文字の順序をランダムに並び替えるプログラムを作成せよ．ただし，長さが４以下の単語は並び替えないこととする．適当な英語の文（例えば”I couldn’t believe that I could actually understand what I was reading : the phenomenal power of the human mind .”）を与え，その実行結果を確認せよ．"
      ],
      "metadata": {
        "id": "T6kmFSTn6imR"
      }
    },
    {
      "cell_type": "code",
      "source": [
        "import random\n",
        "\n",
        "def shuffle_letter(w):\n",
        "    return w[0] + ''.join(random.sample(w[1:-1], len(w[1:-1]))) + w[-1]\n",
        "\n",
        "s = 'I couldn’t believe that I could actually understand what I was reading : the phenomenal power of the human mind .'\n",
        "ans = []\n",
        "for w in s.split():\n",
        "    if len(w) > 4:\n",
        "        w = shuffle_letter(w)\n",
        "    ans.append(w)\n",
        "\n",
        "print(' '.join(ans))"
      ],
      "metadata": {
        "id": "B_681bUq6qEM",
        "colab": {
          "base_uri": "https://localhost:8080/"
        },
        "outputId": "6b3daba1-21d4-4256-d871-55662cb0103a"
      },
      "execution_count": 10,
      "outputs": [
        {
          "output_type": "stream",
          "name": "stdout",
          "text": [
            "I cnduo’lt bielvee that I cluod actlaluy usneradtnd what I was radieng : the pmeannoehl peowr of the human mind .\n"
          ]
        }
      ]
    }
  ]
}